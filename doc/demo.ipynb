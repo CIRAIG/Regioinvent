{
 "cells": [
  {
   "cell_type": "markdown",
   "id": "e85848dd-c2ef-4061-88b5-0208ec790985",
   "metadata": {},
   "source": [
    "# How to use regioinvent"
   ]
  },
  {
   "cell_type": "markdown",
   "id": "5202dfd4-410f-4447-8f74-a92af06e6859",
   "metadata": {},
   "source": [
    "To be able to use regioinvent, we will need:\n",
    "- to install the brightway2 Python library (brightway2 and NOT brightway2.5)\n",
    "- a brightway project within which there is an ecoinvent database with the version 3.9.1 cut-off (only supported version so far)\n",
    "- to download the trade database stored here: https://doi.org/10.5281/zenodo.11583815 (was extracted from the UN COMTRADE database)"
   ]
  },
  {
   "cell_type": "code",
   "execution_count": 1,
   "id": "01366db1-cbce-449b-839e-dbcc07ad2a28",
   "metadata": {},
   "outputs": [],
   "source": [
    "import pandas as pd\n",
    "import numpy as np\n",
    "import sys\n",
    "# change the path here to wherever you stored the Regioinvent Python package\n",
    "sys.path.append('C://Users/11max/PycharmProjects/Regioinvent/')\n",
    "import regioinvent"
   ]
  },
  {
   "cell_type": "markdown",
   "id": "7af64753-f347-47c8-a7c6-1566f2a33388",
   "metadata": {},
   "source": [
    "The initialization of the Regioinvent class requires 4 arguments:\n",
    "- the path to the trade database\n",
    "- the name you want to to give to the resulting regionalized ecoinvent database created\n",
    "- the name of your brightway2 project\n",
    "- the name of the ecoinvent v3.9.1 cut-off database in your brightway2 project"
   ]
  },
  {
   "cell_type": "code",
   "execution_count": 2,
   "id": "60067ead-0ea4-4385-b676-8893c6285288",
   "metadata": {},
   "outputs": [
    {
     "name": "stderr",
     "output_type": "stream",
     "text": [
      "2024-06-11 12:59:16,251 - Regioinvent - INFO - Extracting ecoinvent to wurst...\n"
     ]
    },
    {
     "name": "stdout",
     "output_type": "stream",
     "text": [
      "Getting activity data\n"
     ]
    },
    {
     "name": "stderr",
     "output_type": "stream",
     "text": [
      "100%|██████████| 21238/21238 [00:00<00:00, 129903.55it/s]\n"
     ]
    },
    {
     "name": "stdout",
     "output_type": "stream",
     "text": [
      "Adding exchange data to activities\n"
     ]
    },
    {
     "name": "stderr",
     "output_type": "stream",
     "text": [
      "100%|██████████| 674593/674593 [00:44<00:00, 15034.32it/s]\n"
     ]
    },
    {
     "name": "stdout",
     "output_type": "stream",
     "text": [
      "Filling out exchange data\n"
     ]
    },
    {
     "name": "stderr",
     "output_type": "stream",
     "text": [
      "100%|██████████| 21238/21238 [00:03<00:00, 6567.85it/s] \n"
     ]
    }
   ],
   "source": [
    "regio = regioinvent.Regioinvent(trade_database_path='C://Users/11max/PycharmProjects/Regioinvent/trade_data.db', \n",
    "                                regioinvent_database_name='Regioinvent', \n",
    "                                bw_project_name='ecoinvent3.9', \n",
    "                                ecoinvent_database_name='ecoinvent3.9.1 cut-off')"
   ]
  },
  {
   "cell_type": "markdown",
   "id": "c4075258-017c-4d62-b9e2-6d5a5002b63e",
   "metadata": {},
   "source": [
    "The initialization first uses the wurst Python library to extract your ecoinvent database from brightway into a list of dictionnary format. This will tremendously speed up modifications made to the database."
   ]
  },
  {
   "cell_type": "markdown",
   "id": "2a9ed3cb-d827-4eb8-847c-cd15df807f01",
   "metadata": {},
   "source": [
    "Next, we extract and format the export data from the trade database"
   ]
  },
  {
   "cell_type": "code",
   "execution_count": 3,
   "id": "f386fd5d-8073-4d0f-a96e-be9151cdbaf0",
   "metadata": {},
   "outputs": [
    {
     "name": "stderr",
     "output_type": "stream",
     "text": [
      "2024-06-11 13:00:10,268 - Regioinvent - INFO - Extracting and formatting export data from UN COMTRADE...\n"
     ]
    }
   ],
   "source": [
    "regio.format_export_data()"
   ]
  },
  {
   "cell_type": "markdown",
   "id": "c05ffb4b-4f6c-4eae-b6b8-0d25f8ff1560",
   "metadata": {},
   "source": [
    "We estimate the domestic production data based on the ratio of domestic vs export of the EXIOBASEv3.8.2 database 2019. This ratio is applied to self.export_data."
   ]
  },
  {
   "cell_type": "code",
   "execution_count": 4,
   "id": "12fe15f4-e3e4-439a-9938-dbffc90ae286",
   "metadata": {},
   "outputs": [
    {
     "name": "stderr",
     "output_type": "stream",
     "text": [
      "2024-06-11 13:01:34,626 - Regioinvent - INFO - Estimating domestic production data...\n"
     ]
    }
   ],
   "source": [
    "regio.estimate_domestic_production()"
   ]
  },
  {
   "cell_type": "markdown",
   "id": "62314963-62a7-43c5-8333-4df9f8e5b38c",
   "metadata": {},
   "source": [
    "We apply first order regionalization, that is for the 1870 traded products of the ecoinvent3.9.1 cut-off database, we determine the exporters of each product (through self.export_data) and then regionalize the following key inputs:\n",
    "- electricity\n",
    "- municipal solid waste\n",
    "- heat"
   ]
  },
  {
   "cell_type": "code",
   "execution_count": 5,
   "id": "23e61d08-ef9c-45d7-9344-085b6451d166",
   "metadata": {},
   "outputs": [
    {
     "name": "stderr",
     "output_type": "stream",
     "text": [
      "2024-06-11 13:01:35,723 - Regioinvent - INFO - Regionalizing main inputs of traded products of ecoinvent...\n",
      "100%|██████████| 1870/1870 [18:36<00:00,  1.67it/s] \n"
     ]
    }
   ],
   "source": [
    "regio.first_order_regionalization()"
   ]
  },
  {
   "cell_type": "markdown",
   "id": "95ab170f-898e-45b0-8318-04408e6a3ebc",
   "metadata": {},
   "source": [
    "We then extract and format the import data from the trade database"
   ]
  },
  {
   "cell_type": "code",
   "execution_count": 6,
   "id": "3ccaab1b-c5d3-49ae-adcb-9cce79bd690e",
   "metadata": {},
   "outputs": [
    {
     "name": "stderr",
     "output_type": "stream",
     "text": [
      "2024-06-11 13:20:12,718 - Regioinvent - INFO - Extracting and formatting import data from UN COMTRADE...\n"
     ]
    }
   ],
   "source": [
    "regio.format_import_data()"
   ]
  },
  {
   "cell_type": "markdown",
   "id": "4b1058d2-7b1a-45cb-a24a-2ea5f0536767",
   "metadata": {},
   "source": [
    "With the domestic production and import data in hand, we can determine consumption markets for each of the 1870 products."
   ]
  },
  {
   "cell_type": "code",
   "execution_count": 7,
   "id": "331cdfdb-55fb-4699-88f6-69ff91c0d418",
   "metadata": {},
   "outputs": [
    {
     "name": "stderr",
     "output_type": "stream",
     "text": [
      "2024-06-11 13:21:41,929 - Regioinvent - INFO - Creating consumption markets...\n",
      "100%|██████████| 1870/1870 [42:54<00:00,  1.38s/it] \n"
     ]
    }
   ],
   "source": [
    "regio.create_consumption_markets()"
   ]
  },
  {
   "cell_type": "markdown",
   "id": "58d0db05-5063-41fe-a508-05fdebcb7605",
   "metadata": {},
   "source": [
    "We finally relink created consumption markets to regionalized processes across the regioinvent database."
   ]
  },
  {
   "cell_type": "code",
   "execution_count": 8,
   "id": "ac673633-98b0-4070-b94d-03a659a806b6",
   "metadata": {},
   "outputs": [
    {
     "name": "stderr",
     "output_type": "stream",
     "text": [
      "2024-06-11 14:12:48,673 - Regioinvent - INFO - Performing second order regionalization...\n",
      "2024-06-11 14:13:04,852 - Regioinvent - INFO - Finished, you can now write the database...\n"
     ]
    }
   ],
   "source": [
    "regio.second_order_regionalization()"
   ]
  },
  {
   "cell_type": "markdown",
   "id": "146552fe-877e-493d-ab59-19e058b73feb",
   "metadata": {},
   "source": [
    "All regionalized processes are now in a Python dictionnary. We can now write this database to the brightway2 software to be able to use brightway2 or activity-browser to perform LCAs."
   ]
  },
  {
   "cell_type": "code",
   "execution_count": null,
   "id": "6d7c01e4-0617-415d-8d88-41dfff98ae44",
   "metadata": {},
   "outputs": [],
   "source": [
    "regio.write_to_database()"
   ]
  }
 ],
 "metadata": {
  "kernelspec": {
   "display_name": "Python 3 (ipykernel)",
   "language": "python",
   "name": "python3"
  },
  "language_info": {
   "codemirror_mode": {
    "name": "ipython",
    "version": 3
   },
   "file_extension": ".py",
   "mimetype": "text/x-python",
   "name": "python",
   "nbconvert_exporter": "python",
   "pygments_lexer": "ipython3",
   "version": "3.11.8"
  }
 },
 "nbformat": 4,
 "nbformat_minor": 5
}
